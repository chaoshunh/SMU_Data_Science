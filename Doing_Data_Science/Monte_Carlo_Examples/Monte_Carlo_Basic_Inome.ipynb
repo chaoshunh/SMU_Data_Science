{
 "cells": [
  {
   "cell_type": "markdown",
   "metadata": {},
   "source": [
    "Monte Carlo Simulation\n",
    "\n",
    "Monte Carlo Simulation is a way of studying probability distributions with sampling. The basic idea is that if you draw many samples from a distribution and then make a histogram, the histogram will be shaped a lot like the original distribution. In code, I can either plot a probability distribution:"
   ]
  },
  {
   "cell_type": "code",
   "execution_count": 2,
   "metadata": {
    "collapsed": true
   },
   "outputs": [],
   "source": [
    "import numpy as np\n",
    "import matplotlib.pyplot as plt\n",
    "%matplotlib inline"
   ]
  },
  {
   "cell_type": "code",
   "execution_count": 8,
   "metadata": {
    "collapsed": false
   },
   "outputs": [
    {
     "data": {
      "text/plain": [
       "(array([  3.,   6.,  12.,  14.,  19.,  14.,  16.,   8.,   6.,   2.]),\n",
       " array([-2.33324928, -1.85653778, -1.37982628, -0.90311478, -0.42640328,\n",
       "         0.05030823,  0.52701973,  1.00373123,  1.48044273,  1.95715424,\n",
       "         2.43386574]),\n",
       " <a list of 10 Patch objects>)"
      ]
     },
     "execution_count": 8,
     "metadata": {},
     "output_type": "execute_result"
    },
    {
     "data": {
      "image/png": "[encoded data removed]",
      "text/plain": [
       "<matplotlib.figure.Figure at 0x112cbe2d0>"
      ]
     },
     "metadata": {},
     "output_type": "display_data"
    }
   ],
   "source": [
    "x = sorted(np.random.normal(0,1,100))\n",
    "plt.hist(x)"
   ]
  },
  {
   "cell_type": "code",
   "execution_count": 18,
   "metadata": {
    "collapsed": false
   },
   "outputs": [
    {
     "data": {
      "text/plain": [
       "[<matplotlib.lines.Line2D at 0x114956150>]"
      ]
     },
     "execution_count": 18,
     "metadata": {},
     "output_type": "execute_result"
    },
    {
     "data": {
      "image/png": "[encoded data removed]",
      "text/plain": [
       "<matplotlib.figure.Figure at 0x114731d10>"
      ]
     },
     "metadata": {},
     "output_type": "display_data"
    }
   ],
   "source": [
    "from scipy.stats import norm\n",
    "x = np.arange(-4,4,0.01)\n",
    "plt.plot(x, norm.pdf(x))"
   ]
  },
  {
   "cell_type": "code",
   "execution_count": 19,
   "metadata": {
    "collapsed": true
   },
   "outputs": [],
   "source": [
    "# Modeling Policy Choices\n",
    "num_adults = 227e6\n",
    "basic_income = 7.25*40*50\n",
    "labor_force = 154e6\n",
    "disabled_adults = 21e6\n",
    "wealth_transfers = 3369e9"
   ]
  },
  {
   "cell_type": "code",
   "execution_count": 37,
   "metadata": {
    "collapsed": false
   },
   "outputs": [
    {
     "data": {
      "text/plain": [
       "-40664384663.7384"
      ]
     },
     "execution_count": 37,
     "metadata": {},
     "output_type": "execute_result"
    }
   ],
   "source": [
    "from scipy.stats import *\n",
    "# Basic Income Cost and Benefits\n",
    "direct_cost = num_adults*basic_income\n",
    "# model admin cost per person with normal, mean of 250, sd of 75\n",
    "administrative_cost_per_person = norm(250,75)\n",
    "# incentive or disincentive for productive work\n",
    "non_worker_multiplier = uniform(-0.05, 0.15)\n",
    "# marginal worker hourly productivity\n",
    "marginal_worker_hourly_productivity = norm(10,1)\n",
    "# cost benefit of the labor disincentive:\n",
    "# .rvs() draws sample from probability, can replicate with numpy...\n",
    "-1 * (num_adults-labor_force-disabled_adults) * non_worker_multiplier.rvs()* (40*52*marginal_worker_hourly_productivity.rvs())"
   ]
  },
  {
   "cell_type": "code",
   "execution_count": 38,
   "metadata": {
    "collapsed": false
   },
   "outputs": [],
   "source": [
    "def jk_rowling(num_non_workers):\n",
    "    num_of_jk_rowlings = binom(num_non_workers, 1e-7).rvs()\n",
    "    return num_of_jk_rowlings * 1e9"
   ]
  },
  {
   "cell_type": "code",
   "execution_count": 50,
   "metadata": {
    "collapsed": false
   },
   "outputs": [],
   "source": [
    "def basic_income_cost_benefit():\n",
    "    direct_costs = num_adults * basic_income\n",
    "    administrative_costs = num_adults * administrative_cost_per_person.rvs()\n",
    "    labor_effect_costs_benefit = -1 * ((num_adults-labor_force-disabled_adults) *\n",
    "                                        non_worker_multiplier.rvs() *\n",
    "                                        (40*52*marginal_worker_hourly_productivity.rvs())\n",
    "                                        )\n",
    "    return (direct_costs +\n",
    "           administrative_costs +\n",
    "           labor_effect_costs_benefit +\n",
    "           jk_rowling(num_adults-labor_force-disabled_adults))"
   ]
  },
  {
   "cell_type": "code",
   "execution_count": 51,
   "metadata": {
    "collapsed": false
   },
   "outputs": [
    {
     "data": {
      "text/plain": [
       "3347443790581.677"
      ]
     },
     "execution_count": 51,
     "metadata": {},
     "output_type": "execute_result"
    }
   ],
   "source": [
    "basic_income_cost_benefit()"
   ]
  },
  {
   "cell_type": "code",
   "execution_count": 55,
   "metadata": {
    "collapsed": false
   },
   "outputs": [
    {
     "data": {
      "image/png": "[encoded data removed]",
      "text/plain": [
       "<matplotlib.figure.Figure at 0x11499d510>"
      ]
     },
     "metadata": {},
     "output_type": "display_data"
    }
   ],
   "source": [
    "from numpy import zeros\n",
    "\n",
    "N = 1024*12\n",
    "bi = zeros(shape=(N,), dtype=float)\n",
    "\n",
    "for k in range(N):\n",
    "    bi[k] = basic_income_cost_benefit()\n",
    "\n",
    "width = 4e12\n",
    "height=50*N/1024\n",
    "\n",
    "plt.title(\"Basic Income\")\n",
    "plt.hist(bi, bins=50)\n",
    "plt.axis([0,width,0,height])\n",
    "plt.show()"
   ]
  },
  {
   "cell_type": "code",
   "execution_count": 56,
   "metadata": {
    "collapsed": false
   },
   "outputs": [
    {
     "data": {
      "image/png": "[encoded data removed]",
      "text/plain": [
       "<matplotlib.figure.Figure at 0x112d9d710>"
      ]
     },
     "metadata": {},
     "output_type": "display_data"
    }
   ],
   "source": [
    "x = np.linspace(0, 1, 100)\n",
    "plt.plot(x, np.exp(x));\n",
    "pts = np.random.uniform(0,1,(100, 2))\n",
    "pts[:, 1] *= np.e\n",
    "plt.scatter(pts[:, 0], pts[:, 1])\n",
    "plt.xlim([0,1])\n",
    "plt.ylim([0, np.e]);"
   ]
  },
  {
   "cell_type": "code",
   "execution_count": 57,
   "metadata": {
    "collapsed": false
   },
   "outputs": [
    {
     "data": {
      "text/plain": [
       "array([[ 0.85022815,  0.53242175],\n",
       "       [ 0.88304157,  1.41935304],\n",
       "       [ 0.01689206,  0.47795473],\n",
       "       [ 0.58299102,  0.4159322 ],\n",
       "       [ 0.58604875,  1.5584085 ],\n",
       "       [ 0.22941415,  0.02419061],\n",
       "       [ 0.4904641 ,  0.87612787],\n",
       "       [ 0.06951185,  0.03030852],\n",
       "       [ 0.44139487,  1.51656563],\n",
       "       [ 0.03315512,  2.6976455 ],\n",
       "       [ 0.07048764,  0.85382484],\n",
       "       [ 0.86492822,  1.62841396],\n",
       "       [ 0.11800268,  0.60391176],\n",
       "       [ 0.00806282,  0.04342025],\n",
       "       [ 0.81591727,  1.40006429],\n",
       "       [ 0.3290877 ,  2.39623381],\n",
       "       [ 0.98693057,  2.08745135],\n",
       "       [ 0.54401516,  2.29300959],\n",
       "       [ 0.02996142,  1.51946422],\n",
       "       [ 0.86206824,  1.71139364],\n",
       "       [ 0.17718148,  2.46068503],\n",
       "       [ 0.14222741,  1.37369622],\n",
       "       [ 0.67287505,  0.21161064],\n",
       "       [ 0.86573157,  1.58199446],\n",
       "       [ 0.3036227 ,  1.62704709],\n",
       "       [ 0.65435953,  2.15569793],\n",
       "       [ 0.97891523,  1.6864375 ],\n",
       "       [ 0.37516444,  2.6147896 ],\n",
       "       [ 0.90240555,  0.52258575],\n",
       "       [ 0.79094654,  0.04700133],\n",
       "       [ 0.06039353,  1.84721103],\n",
       "       [ 0.17134137,  0.72098104],\n",
       "       [ 0.21788415,  0.60806993],\n",
       "       [ 0.73500789,  0.90442924],\n",
       "       [ 0.72337452,  1.49409473],\n",
       "       [ 0.43974877,  2.37923111],\n",
       "       [ 0.87712282,  1.30540056],\n",
       "       [ 0.55747566,  2.53202685],\n",
       "       [ 0.2896068 ,  0.35103809],\n",
       "       [ 0.54342843,  0.71352264],\n",
       "       [ 0.19469904,  1.72503603],\n",
       "       [ 0.03529492,  0.14123949],\n",
       "       [ 0.60144516,  2.64452381],\n",
       "       [ 0.99528354,  0.67119887],\n",
       "       [ 0.55520607,  2.47767839],\n",
       "       [ 0.16050072,  0.92456318],\n",
       "       [ 0.81012637,  0.69818833],\n",
       "       [ 0.39945887,  2.37735917],\n",
       "       [ 0.4551877 ,  2.02392429],\n",
       "       [ 0.94998055,  1.37616635],\n",
       "       [ 0.23300185,  0.77160621],\n",
       "       [ 0.8525495 ,  2.25014782],\n",
       "       [ 0.20158996,  1.44253631],\n",
       "       [ 0.78970339,  1.16179589],\n",
       "       [ 0.45975996,  2.10898267],\n",
       "       [ 0.56496987,  1.80868058],\n",
       "       [ 0.19668106,  1.03130412],\n",
       "       [ 0.12423861,  0.72888017],\n",
       "       [ 0.80195906,  0.11931051],\n",
       "       [ 0.28615937,  1.32141468],\n",
       "       [ 0.32594987,  1.57493681],\n",
       "       [ 0.77082529,  2.43611377],\n",
       "       [ 0.03491823,  1.74115458],\n",
       "       [ 0.34528666,  0.2752621 ],\n",
       "       [ 0.92064293,  0.60168988],\n",
       "       [ 0.46126396,  1.80904715],\n",
       "       [ 0.43829792,  0.24168101],\n",
       "       [ 0.50490653,  1.23277992],\n",
       "       [ 0.27780911,  1.25019361],\n",
       "       [ 0.43273052,  2.37234057],\n",
       "       [ 0.66223968,  2.4366163 ],\n",
       "       [ 0.51977293,  1.43077217],\n",
       "       [ 0.39947059,  1.22651487],\n",
       "       [ 0.82523525,  1.46496034],\n",
       "       [ 0.11425695,  1.29092396],\n",
       "       [ 0.15502583,  1.56275765],\n",
       "       [ 0.58527367,  0.25690573],\n",
       "       [ 0.52207573,  2.37961533],\n",
       "       [ 0.95660875,  1.79183514],\n",
       "       [ 0.1587991 ,  0.98714968],\n",
       "       [ 0.24418764,  1.55326256],\n",
       "       [ 0.80672107,  0.82473815],\n",
       "       [ 0.11641563,  1.6134572 ],\n",
       "       [ 0.10406498,  1.34674275],\n",
       "       [ 0.36352161,  1.41471414],\n",
       "       [ 0.18576829,  2.50835752],\n",
       "       [ 0.2853885 ,  1.72480707],\n",
       "       [ 0.69887954,  1.98785742],\n",
       "       [ 0.51323197,  0.60646438],\n",
       "       [ 0.33888878,  1.76073532],\n",
       "       [ 0.94038708,  0.67783983],\n",
       "       [ 0.13104711,  0.81347335],\n",
       "       [ 0.11751608,  0.93189254],\n",
       "       [ 0.99922441,  0.18601975],\n",
       "       [ 0.88885277,  2.06227215],\n",
       "       [ 0.38113805,  2.50482266],\n",
       "       [ 0.83049637,  0.60037625],\n",
       "       [ 0.88901962,  1.34108253],\n",
       "       [ 0.34532054,  2.38001459],\n",
       "       [ 0.65263069,  0.58891708]])"
      ]
     },
     "execution_count": 57,
     "metadata": {},
     "output_type": "execute_result"
    }
   ],
   "source": [
    "pts"
   ]
  },
  {
   "cell_type": "code",
   "execution_count": 65,
   "metadata": {
    "collapsed": false
   },
   "outputs": [
    {
     "name": "stdout",
     "output_type": "stream",
     "text": [
      "0.100737264012\n",
      "1.1065527116\n",
      "0.489848019325\n",
      "0.71406051191\n",
      "0.951572261634\n",
      "0.953903037799\n",
      "0.746581098271\n",
      "0.297470422968\n",
      "0.594294199774\n",
      "0.518083595349\n",
      "0.587471606547\n",
      "0.837376675249\n",
      "0.900684157604\n",
      "1.01061769083\n",
      "0.566576632946\n",
      "0.898757589795\n",
      "1.26488843021\n",
      "0.987158137439\n",
      "0.414047508756\n",
      "0.292972936661\n",
      "0.357503706606\n",
      "0.769370200202\n",
      "1.05914839075\n",
      "0.666034916454\n",
      "0.456580306063\n",
      "1.09381527091\n",
      "0.86963873711\n",
      "1.03989289916\n",
      "0.552426242675\n",
      "0.783382185174\n",
      "0.784944950276\n",
      "1.24037656217\n",
      "0.80062319111\n",
      "0.72433298836\n",
      "0.707648498317\n",
      "0.628090659217\n",
      "0.904585758545\n",
      "0.640703689048\n",
      "0.305509028604\n",
      "0.294545235927\n",
      "0.785920522439\n",
      "0.725918253839\n",
      "0.822202845067\n",
      "0.906797973077\n",
      "0.556198780361\n",
      "0.961491082417\n",
      "0.700083563135\n",
      "0.679160151607\n",
      "1.24164106944\n",
      "0.771951733348\n",
      "0.562420768281\n",
      "0.383463813719\n",
      "0.787890632748\n",
      "0.352850993401\n",
      "0.915740355253\n",
      "0.623160159317\n",
      "0.902270630526\n",
      "0.896096173218\n",
      "1.02364019329\n",
      "0.339266801022\n",
      "0.310288926535\n",
      "0.729411765639\n",
      "1.21943537023\n",
      "0.349045766806\n",
      "0.767131728506\n",
      "1.29839546464\n",
      "0.776831055809\n",
      "0.475575292411\n",
      "0.510580968957\n",
      "0.642735851168\n",
      "0.617279544975\n",
      "0.676358278024\n",
      "1.15163222846\n",
      "0.866775728941\n",
      "0.762482358231\n",
      "0.438810760023\n",
      "0.931417866167\n",
      "0.493381412188\n",
      "0.665666579645\n",
      "1.09109751296\n",
      "0.263770755363\n",
      "1.01794119764\n",
      "1.11140375209\n",
      "0.961447827253\n",
      "0.89366062281\n",
      "0.417431512191\n",
      "0.493284168048\n",
      "0.898015279839\n",
      "0.437787432951\n",
      "0.878579374279\n",
      "0.69988625502\n",
      "0.528687030922\n",
      "0.690836087227\n",
      "1.30615493428\n",
      "1.2174216925\n",
      "0.936995024765\n",
      "0.84952212385\n",
      "0.901237336489\n",
      "0.829033263987\n",
      "pi = 3.31313131313\n"
     ]
    }
   ],
   "source": [
    "from random import random\n",
    "from math import sqrt, pow\n",
    "\n",
    "\n",
    "\n",
    "DARTS=100\n",
    "hits = 0\n",
    "throws = 0\n",
    "for i in range (1, DARTS):\n",
    "    throws += 1\n",
    "    x = random()\n",
    "    y = random()\n",
    "    dist = sqrt(pow(x, 2) + pow(y, 2))\n",
    "    if dist <= 1.0:\n",
    "        hits = hits + 1.0\n",
    "\n",
    "# hits / throws = 1/4 Pi\n",
    "pi = 4 * (hits / throws)\n",
    "\n",
    "\n",
    "print \"pi = %s\" %(pi)"
   ]
  },
  {
   "cell_type": "code",
   "execution_count": 66,
   "metadata": {
    "collapsed": false
   },
   "outputs": [
    {
     "data": {
      "text/plain": [
       "82.0"
      ]
     },
     "execution_count": 66,
     "metadata": {},
     "output_type": "execute_result"
    }
   ],
   "source": [
    "hits"
   ]
  },
  {
   "cell_type": "code",
   "execution_count": 67,
   "metadata": {
    "collapsed": false
   },
   "outputs": [
    {
     "data": {
      "text/plain": [
       "99"
      ]
     },
     "execution_count": 67,
     "metadata": {},
     "output_type": "execute_result"
    }
   ],
   "source": [
    "throws"
   ]
  },
  {
   "cell_type": "code",
   "execution_count": null,
   "metadata": {
    "collapsed": true
   },
   "outputs": [],
   "source": []
  }
 ],
 "metadata": {
  "kernelspec": {
   "display_name": "Python [Root]",
   "language": "python",
   "name": "Python [Root]"
  },
  "language_info": {
   "codemirror_mode": {
    "name": "ipython",
    "version": 2
   },
   "file_extension": ".py",
   "mimetype": "text/x-python",
   "name": "python",
   "nbconvert_exporter": "python",
   "pygments_lexer": "ipython2",
   "version": "2.7.12"
  }
 },
 "nbformat": 4,
 "nbformat_minor": 0
}
